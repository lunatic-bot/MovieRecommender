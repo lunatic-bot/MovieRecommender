{
 "cells": [
  {
   "cell_type": "code",
   "execution_count": null,
   "id": "b8c1a1cc",
   "metadata": {},
   "outputs": [],
   "source": [
    "# Optional: sparse matrix visualization\n",
    "try:\n",
    "    from scipy.sparse import csr_matrix\n",
    "    SCIPY_AVAILABLE = True\n",
    "except Exception:\n",
    "    SCIPY_AVAILABLE = False\n",
    "    print(\"scipy not available: full sparse-plot will use a sampled dense matrix.\")"
   ]
  },
  {
   "cell_type": "code",
   "execution_count": 52,
   "id": "989220de",
   "metadata": {},
   "outputs": [],
   "source": [
    "import datetime"
   ]
  },
  {
   "cell_type": "code",
   "execution_count": 26,
   "id": "d3db3e9e",
   "metadata": {},
   "outputs": [
    {
     "name": "stdout",
     "output_type": "stream",
     "text": [
      "   userId  movieId  rating  timestamp\n",
      "0       1     1193       5  978300760\n",
      "1       1      661       3  978302109\n",
      "2       1      914       3  978301968\n",
      "3       1     3408       4  978300275\n",
      "4       1     2355       5  978824291\n",
      "   movieId                               title                        genres\n",
      "0        1                    Toy Story (1995)   Animation|Children's|Comedy\n",
      "1        2                      Jumanji (1995)  Adventure|Children's|Fantasy\n",
      "2        3             Grumpier Old Men (1995)                Comedy|Romance\n",
      "3        4            Waiting to Exhale (1995)                  Comedy|Drama\n",
      "4        5  Father of the Bride Part II (1995)                        Comedy\n",
      "   userId gender  age  occupation    zip\n",
      "0       1      F    1          10  48067\n",
      "1       2      M   56          16  70072\n",
      "2       3      M   25          15  55117\n",
      "3       4      M   45           7  02460\n",
      "4       5      M   25          20  55455\n"
     ]
    }
   ],
   "source": [
    "import pandas as pd\n",
    "\n",
    "def load_movielens_1m(path=\"data\\ml-1m\"):\n",
    "    # Load ratings\n",
    "    ratings = pd.read_csv(\n",
    "        f\"{path}ratings.dat\",\n",
    "        sep=\"::\",\n",
    "        engine=\"python\",\n",
    "        names=[\"userId\", \"movieId\", \"rating\", \"timestamp\"]\n",
    "    )\n",
    "\n",
    "    # Load movies\n",
    "    movies = pd.read_csv(\n",
    "        f\"{path}movies.dat\",\n",
    "        sep=\"::\",\n",
    "        engine=\"python\",\n",
    "        names=[\"movieId\", \"title\", \"genres\"],\n",
    "        encoding=\"latin-1\"\n",
    "    )\n",
    "\n",
    "    # Load users\n",
    "    users = pd.read_csv(\n",
    "        f\"{path}users.dat\",\n",
    "        sep=\"::\",\n",
    "        engine=\"python\",\n",
    "        names=[\"userId\", \"gender\", \"age\", \"occupation\", \"zip\"]\n",
    "    )\n",
    "\n",
    "    return ratings, movies, users\n",
    "\n",
    "\n",
    "path = r\"C:\\Users\\atalb\\Documents\\Coding\\MLandAI\\MLProjects\\MovieRecommender\\data\\ml-1m\\\\\"\n",
    "# Example usage\n",
    "ratings, movies, users = load_movielens_1m(path=path)\n",
    "print(ratings.head())\n",
    "print(movies.head())\n",
    "print(users.head())\n"
   ]
  },
  {
   "cell_type": "code",
   "execution_count": 27,
   "id": "86cef37b",
   "metadata": {},
   "outputs": [
    {
     "name": "stdout",
     "output_type": "stream",
     "text": [
      "Shapes:\n",
      " ratings: (1000209, 4)\n",
      " movies:  (3883, 3)\n",
      " users:   (6040, 5)\n",
      "\n",
      "ratings dtypes:\n",
      " userId       int64\n",
      "movieId      int64\n",
      "rating       int64\n",
      "timestamp    int64\n",
      "dtype: object\n",
      "\n",
      "First 3 ratings rows:\n",
      "    userId  movieId  rating  timestamp\n",
      "0       1     1193       5  978300760\n",
      "1       1      661       3  978302109\n",
      "2       1      914       3  978301968\n",
      "\n",
      "First 3 movies rows:\n",
      "    movieId                    title                        genres\n",
      "0        1         Toy Story (1995)   Animation|Children's|Comedy\n",
      "1        2           Jumanji (1995)  Adventure|Children's|Fantasy\n",
      "2        3  Grumpier Old Men (1995)                Comedy|Romance\n",
      "\n",
      "First 3 users rows:\n",
      "    userId gender  age  occupation    zip\n",
      "0       1      F    1          10  48067\n",
      "1       2      M   56          16  70072\n",
      "2       3      M   25          15  55117\n"
     ]
    }
   ],
   "source": [
    "print(\"Shapes:\")\n",
    "print(\" ratings:\", ratings.shape)\n",
    "print(\" movies: \", movies.shape)\n",
    "print(\" users:  \", users.shape)\n",
    "print(\"\\nratings dtypes:\\n\", ratings.dtypes)\n",
    "print(\"\\nFirst 3 ratings rows:\\n\", ratings.head(3))\n",
    "print(\"\\nFirst 3 movies rows:\\n\", movies.head(3))\n",
    "print(\"\\nFirst 3 users rows:\\n\", users.head(3))"
   ]
  },
  {
   "cell_type": "code",
   "execution_count": 28,
   "id": "33caf3ed",
   "metadata": {},
   "outputs": [
    {
     "name": "stdout",
     "output_type": "stream",
     "text": [
      "\n",
      "Missing values (per dataframe):\n",
      "ratings:\n",
      " userId       0\n",
      "movieId      0\n",
      "rating       0\n",
      "timestamp    0\n",
      "dtype: int64\n",
      "movies:\n",
      " movieId    0\n",
      "title      0\n",
      "genres     0\n",
      "dtype: int64\n",
      "users:\n",
      " userId        0\n",
      "gender        0\n",
      "age           0\n",
      "occupation    0\n",
      "zip           0\n",
      "dtype: int64\n"
     ]
    }
   ],
   "source": [
    "print(\"\\nMissing values (per dataframe):\")\n",
    "print(\"ratings:\\n\", ratings.isnull().sum())\n",
    "print(\"movies:\\n\", movies.isnull().sum())\n",
    "print(\"users:\\n\", users.isnull().sum())"
   ]
  },
  {
   "cell_type": "code",
   "execution_count": 29,
   "metadata": {},
   "outputs": [
    {
     "name": "stdout",
     "output_type": "stream",
     "text": [
      "\n",
      "Duplicates checks:\n",
      "ratings duplicate rows: 0\n",
      "movies duplicate movieId: 0\n",
      "movies duplicate titles: 0\n",
      "users duplicate userId: 0\n"
     ]
    }
   ],
   "source": [
    "# Duplicates\n",
    "print(\"\\nDuplicates checks:\")\n",
    "print(\"ratings duplicate rows:\", ratings.duplicated().sum())\n",
    "print(\"movies duplicate movieId:\", movies['movieId'].duplicated().sum())\n",
    "print(\"movies duplicate titles:\", movies['title'].duplicated().sum())\n",
    "print(\"users duplicate userId:\", users['userId'].duplicated().sum())\n"
   ]
  },
  {
   "cell_type": "code",
   "execution_count": 30,
   "metadata": {},
   "outputs": [
    {
     "data": {
      "image/png": "[encoded data removed]",
      "text/plain": [
       "<Figure size 600x400 with 1 Axes>"
      ]
     },
     "metadata": {},
     "output_type": "display_data"
    }
   ],
   "source": [
    "import matplotlib.pyplot as plt\n",
    "import numpy as np\n",
    "\n",
    "plt.figure(figsize=(6,4))\n",
    "plt.hist(ratings['rating'], bins=np.arange(0.5, 5.5+1e-6, 1), rwidth=0.8)\n",
    "plt.xticks([1,2,3,4,5])\n",
    "plt.xlabel(\"Rating\")\n",
    "plt.ylabel(\"Count\")\n",
    "plt.title(\"Distribution of Ratings\")\n",
    "plt.show()"
   ]
  },
  {
   "cell_type": "code",
   "execution_count": 31,
   "id": "29591be3",
   "metadata": {},
   "outputs": [
    {
     "name": "stdout",
     "output_type": "stream",
     "text": [
      "\n",
      "Ratings summary:\n",
      "count    1.000209e+06\n",
      "mean     3.581564e+00\n",
      "std      1.117102e+00\n",
      "min      1.000000e+00\n",
      "25%      3.000000e+00\n",
      "50%      4.000000e+00\n",
      "75%      4.000000e+00\n",
      "max      5.000000e+00\n",
      "Name: rating, dtype: float64\n"
     ]
    }
   ],
   "source": [
    "print(\"\\nRatings summary:\")\n",
    "print(ratings['rating'].describe())"
   ]
  },
  {
   "cell_type": "code",
   "execution_count": 32,
   "id": "a00db95b",
   "metadata": {},
   "outputs": [
    {
     "name": "stdout",
     "output_type": "stream",
     "text": [
      "\n",
      "Ratings per user summary:\n",
      "count    6040.000000\n",
      "mean      165.597517\n",
      "std       192.747029\n",
      "min        20.000000\n",
      "25%        44.000000\n",
      "50%        96.000000\n",
      "75%       208.000000\n",
      "max      2314.000000\n",
      "Name: num_ratings, dtype: float64\n"
     ]
    }
   ],
   "source": [
    "rpu = ratings.groupby('userId').size().rename(\"num_ratings\")\n",
    "print(\"\\nRatings per user summary:\")\n",
    "print(rpu.describe())"
   ]
  },
  {
   "cell_type": "code",
   "execution_count": 34,
   "id": "6be5c584",
   "metadata": {},
   "outputs": [
    {
     "name": "stdout",
     "output_type": "stream",
     "text": [
      "\n",
      "Top 10 users by number of ratings:\n",
      "userId\n",
      "4169    2314\n",
      "1680    1850\n",
      "4277    1743\n",
      "1941    1595\n",
      "1181    1521\n",
      "889     1518\n",
      "3618    1344\n",
      "2063    1323\n",
      "1150    1302\n",
      "1015    1286\n",
      "Name: num_ratings, dtype: int64\n"
     ]
    }
   ],
   "source": [
    "# top 10 most active users\n",
    "print(\"\\nTop 10 users by number of ratings:\")\n",
    "print(rpu.sort_values(ascending=False).head(10))"
   ]
  },
  {
   "cell_type": "code",
   "execution_count": 35,
   "id": "db62e4c1",
   "metadata": {},
   "outputs": [
    {
     "data": {
      "image/png": "[encoded data removed]",
      "text/plain": [
       "<Figure size 600x400 with 1 Axes>"
      ]
     },
     "metadata": {},
     "output_type": "display_data"
    }
   ],
   "source": [
    "plt.figure(figsize=(6,4))\n",
    "plt.hist(rpu, bins=50)\n",
    "plt.xlabel(\"Number of ratings per user\")\n",
    "plt.ylabel(\"Count of users\")\n",
    "plt.title(\"Use activity distribution (ratings per user)\")\n",
    "plt.show()"
   ]
  },
  {
   "cell_type": "code",
   "execution_count": 36,
   "id": "dced9cfd",
   "metadata": {},
   "outputs": [
    {
     "name": "stdout",
     "output_type": "stream",
     "text": [
      "\n",
      "Ratings per movie summary:\n",
      "count    3706.000000\n",
      "mean      269.889099\n",
      "std       384.047838\n",
      "min         1.000000\n",
      "25%        33.000000\n",
      "50%       123.500000\n",
      "75%       350.000000\n",
      "max      3428.000000\n",
      "Name: num_ratings, dtype: float64\n"
     ]
    }
   ],
   "source": [
    "# Step 6 - ## Ratings per movie\n",
    "\n",
    "rpm = ratings.groupby('movieId').size().rename(\"num_ratings\")\n",
    "print(\"\\nRatings per movie summary:\")\n",
    "print(rpm.describe())\n"
   ]
  },
  {
   "cell_type": "code",
   "execution_count": 38,
   "id": "02aca480",
   "metadata": {},
   "outputs": [
    {
     "name": "stdout",
     "output_type": "stream",
     "text": [
      "\n",
      "Top 20 most-rated movies:\n",
      "    movieId                                              title  num_ratings\n",
      "0      2858                             American Beauty (1999)         3428\n",
      "1       260          Star Wars: Episode IV - A New Hope (1977)         2991\n",
      "2      1196  Star Wars: Episode V - The Empire Strikes Back...         2990\n",
      "3      1210  Star Wars: Episode VI - Return of the Jedi (1983)         2883\n",
      "4       480                               Jurassic Park (1993)         2672\n",
      "5      2028                         Saving Private Ryan (1998)         2653\n",
      "6       589                  Terminator 2: Judgment Day (1991)         2649\n",
      "7      2571                                 Matrix, The (1999)         2590\n",
      "8      1270                          Back to the Future (1985)         2583\n",
      "9       593                   Silence of the Lambs, The (1991)         2578\n",
      "10     1580                                Men in Black (1997)         2538\n",
      "11     1198                     Raiders of the Lost Ark (1981)         2514\n",
      "12      608                                       Fargo (1996)         2513\n",
      "13     2762                            Sixth Sense, The (1999)         2459\n",
      "14      110                                  Braveheart (1995)         2443\n",
      "15     2396                         Shakespeare in Love (1998)         2369\n",
      "16     1197                         Princess Bride, The (1987)         2318\n",
      "17      527                            Schindler's List (1993)         2304\n",
      "18     1617                           L.A. Confidential (1997)         2288\n",
      "19     1265                               Groundhog Day (1993)         2278\n"
     ]
    }
   ],
   "source": [
    "\n",
    "# Top 20 movies by count (join with titles)\n",
    "top_movies = rpm.sort_values(ascending=False).head(20).reset_index().merge(movies, on='movieId')[['movieId', 'title', 'num_ratings']]\n",
    "print(\"\\nTop 20 most-rated movies:\")\n",
    "print(top_movies)"
   ]
  },
  {
   "cell_type": "code",
   "execution_count": 39,
   "id": "47a9565d",
   "metadata": {},
   "outputs": [
    {
     "data": {
      "image/png": "[encoded data removed]",
      "text/plain": [
       "<Figure size 600x400 with 1 Axes>"
      ]
     },
     "metadata": {},
     "output_type": "display_data"
    }
   ],
   "source": [
    "plt.figure(figsize=(6,4))\n",
    "plt.hist(rpm, bins=50)\n",
    "plt.xlabel(\"Number of ratings per movie\")\n",
    "plt.ylabel(\"Count of movies\")\n",
    "plt.title(\"Movie popularity distribution (ratings per movie)\")\n",
    "plt.show()"
   ]
  },
  {
   "cell_type": "code",
   "execution_count": 40,
   "id": "fdf2eba8",
   "metadata": {},
   "outputs": [
    {
     "name": "stdout",
     "output_type": "stream",
     "text": [
      "\n",
      "Overall mean rating: 3.581564453029317\n"
     ]
    }
   ],
   "source": [
    "# Step 7 — rating bias checks\n",
    "\n",
    "overall_mean = ratings['rating'].mean()\n",
    "print(\"\\nOverall mean rating:\", overall_mean)"
   ]
  },
  {
   "cell_type": "code",
   "execution_count": 41,
   "id": "d816dca1",
   "metadata": {},
   "outputs": [
    {
     "name": "stdout",
     "output_type": "stream",
     "text": [
      "\n",
      "Per-user mean rating stats:\n",
      "count    6040.000000\n",
      "mean        3.702705\n",
      "std         0.429622\n",
      "min         1.015385\n",
      "25%         3.444444\n",
      "50%         3.735294\n",
      "75%         4.000000\n",
      "max         4.962963\n",
      "Name: rating, dtype: float64\n"
     ]
    }
   ],
   "source": [
    "# Per-user mean rating distribution (shows user bias: harsh vs lenient raters)\n",
    "user_mean = ratings.groupby('userId')['rating'].mean()\n",
    "print(\"\\nPer-user mean rating stats:\")\n",
    "print(user_mean.describe())"
   ]
  },
  {
   "cell_type": "code",
   "execution_count": 42,
   "id": "b7b2d9af",
   "metadata": {},
   "outputs": [
    {
     "data": {
      "image/png": "[encoded data removed]",
      "text/plain": [
       "<Figure size 600x400 with 1 Axes>"
      ]
     },
     "metadata": {},
     "output_type": "display_data"
    }
   ],
   "source": [
    "plt.figure(figsize=(6,4))\n",
    "plt.hist(user_mean, bins=50)\n",
    "plt.xlabel(\"Average rating given by user\")\n",
    "plt.ylabel(\"Count of users\")\n",
    "plt.title(\"Distribution of per-user average ratings (user bias)\")\n",
    "plt.show()"
   ]
  },
  {
   "cell_type": "code",
   "execution_count": 43,
   "id": "677a267f",
   "metadata": {},
   "outputs": [
    {
     "data": {
      "image/png": "[encoded data removed]",
      "text/plain": [
       "<Figure size 600x400 with 1 Axes>"
      ]
     },
     "metadata": {},
     "output_type": "display_data"
    }
   ],
   "source": [
    "# Per-movie mean rating distribution (shows which movies are rated high on average)\n",
    "movie_mean = ratings.groupby('movieId')['rating'].mean()\n",
    "plt.figure(figsize=(6,4))\n",
    "plt.hist(movie_mean, bins=50)\n",
    "plt.xlabel(\"Average rating for movie\")\n",
    "plt.ylabel(\"Count of movies\")\n",
    "plt.title(\"Distribution of per-movie average rating\")\n",
    "plt.show()"
   ]
  },
  {
   "cell_type": "code",
   "execution_count": 44,
   "id": "b47dc0dd",
   "metadata": {},
   "outputs": [
    {
     "name": "stdout",
     "output_type": "stream",
     "text": [
      "\n",
      "Top 10 lenient users (highest avg rating):\n",
      "userId\n",
      "283     4.962963\n",
      "2339    4.956522\n",
      "3324    4.904762\n",
      "3902    4.890909\n",
      "446     4.843137\n",
      "447     4.837838\n",
      "4649    4.818182\n",
      "4634    4.813725\n",
      "1131    4.796117\n",
      "4925    4.761905\n",
      "Name: rating, dtype: float64\n",
      "\n",
      "Top 10 harsh users (lowest avg rating):\n",
      "userId\n",
      "3598    1.015385\n",
      "4486    1.058824\n",
      "2744    1.304348\n",
      "4539    1.815126\n",
      "5850    1.844828\n",
      "5334    1.927273\n",
      "4349    1.962963\n",
      "4636    2.000000\n",
      "5686    2.045283\n",
      "3209    2.060870\n",
      "Name: rating, dtype: float64\n"
     ]
    }
   ],
   "source": [
    "# Users with highest & lowest average ratings (lenient vs harsh)\n",
    "print(\"\\nTop 10 lenient users (highest avg rating):\")\n",
    "print(user_mean.sort_values(ascending=False).head(10))\n",
    "print(\"\\nTop 10 harsh users (lowest avg rating):\")\n",
    "print(user_mean.sort_values(ascending=True).head(10))"
   ]
  },
  {
   "cell_type": "code",
   "execution_count": 45,
   "id": "0b6e80b2",
   "metadata": {},
   "outputs": [],
   "source": [
    "# Step 8 — weird values checks"
   ]
  },
  {
   "cell_type": "code",
   "execution_count": 46,
   "id": "a99d1d15",
   "metadata": {},
   "outputs": [
    {
     "name": "stdout",
     "output_type": "stream",
     "text": [
      "\n",
      "Unique genres (sample): ['Action', 'Adventure', 'Animation', \"Children's\", 'Comedy', 'Crime', 'Documentary', 'Drama', 'Fantasy', 'Film-Noir', 'Horror', 'Musical', 'Mystery', 'Romance', 'Sci-Fi', 'Thriller', 'War', 'Western']\n"
     ]
    }
   ],
   "source": [
    "all_genres = set()\n",
    "for g in movies['genres'].dropna().unique():\n",
    "    for gi in g.split('|'):\n",
    "        all_genres.add(gi)\n",
    "\n",
    "\n",
    "print(\"\\nUnique genres (sample):\", sorted(list(all_genres))[:30])"
   ]
  },
  {
   "cell_type": "code",
   "execution_count": 48,
   "id": "e290f4b6",
   "metadata": {},
   "outputs": [
    {
     "name": "stdout",
     "output_type": "stream",
     "text": [
      "Movies with missing/empty genres: 0\n"
     ]
    }
   ],
   "source": [
    "# Movies with no genres\n",
    "no_genre = movies[movies['genres'].isnull()|(movies['genres'].str.strip()== '')]\n",
    "print(\"Movies with missing/empty genres:\", no_genre.shape[0])"
   ]
  },
  {
   "cell_type": "code",
   "execution_count": 50,
   "id": "428a5f07",
   "metadata": {},
   "outputs": [
    {
     "name": "stdout",
     "output_type": "stream",
     "text": [
      "Movies with non-ascii characters in title (sample up to 10):       movieId                                              title  \\\n",
      "72         73                             Misérables, Les (1995)   \n",
      "566       570               Slingshot, The (Kådisbellan ) (1993)   \n",
      "578       582                      Metisse (Café au Lait) (1993)   \n",
      "643       649                 Cold Fever (Á köldum klaka) (1994)   \n",
      "1101     1117         Eighth Day, The (Le Huitième jour ) (1996)   \n",
      "1133     1149          JLG/JLG - autoportrait de décembre (1994)   \n",
      "1160     1176  Double Life of Veronique, The (La Double Vie d...   \n",
      "1193     1211    Wings of Desire (Der Himmel über Berlin) (1987)   \n",
      "1300     1320                                      Alien³ (1992)   \n",
      "1343     1364         Zero Kelvin (Kjærlighetens kjøtere) (1995)   \n",
      "\n",
      "                             genres  \n",
      "72                    Drama|Musical  \n",
      "566                    Comedy|Drama  \n",
      "578                          Comedy  \n",
      "643                    Comedy|Drama  \n",
      "1101                          Drama  \n",
      "1133              Documentary|Drama  \n",
      "1160                          Drama  \n",
      "1193           Comedy|Drama|Romance  \n",
      "1300  Action|Horror|Sci-Fi|Thriller  \n",
      "1343                         Action  \n"
     ]
    }
   ],
   "source": [
    "# Titles with weird unicode characters (example detection)\n",
    "weird_titles = movies[movies['title'].str.contains(r\"[^\\x00-\\x7F]\", regex=True, na=False)]\n",
    "print(\"Movies with non-ascii characters in title (sample up to 10):\", weird_titles.head(10))\n",
    "\n",
    "\n",
    "\n"
   ]
  },
  {
   "cell_type": "code",
   "execution_count": 54,
   "id": "9696f73e",
   "metadata": {},
   "outputs": [
    {
     "data": {
      "text/html": [
       "<div>\n",
       "<style scoped>\n",
       "    .dataframe tbody tr th:only-of-type {\n",
       "        vertical-align: middle;\n",
       "    }\n",
       "\n",
       "    .dataframe tbody tr th {\n",
       "        vertical-align: top;\n",
       "    }\n",
       "\n",
       "    .dataframe thead th {\n",
       "        text-align: right;\n",
       "    }\n",
       "</style>\n",
       "<table border=\"1\" class=\"dataframe\">\n",
       "  <thead>\n",
       "    <tr style=\"text-align: right;\">\n",
       "      <th></th>\n",
       "      <th>userId</th>\n",
       "      <th>movieId</th>\n",
       "      <th>rating</th>\n",
       "      <th>timestamp</th>\n",
       "    </tr>\n",
       "  </thead>\n",
       "  <tbody>\n",
       "    <tr>\n",
       "      <th>0</th>\n",
       "      <td>1</td>\n",
       "      <td>1193</td>\n",
       "      <td>5</td>\n",
       "      <td>978300760</td>\n",
       "    </tr>\n",
       "    <tr>\n",
       "      <th>1</th>\n",
       "      <td>1</td>\n",
       "      <td>661</td>\n",
       "      <td>3</td>\n",
       "      <td>978302109</td>\n",
       "    </tr>\n",
       "    <tr>\n",
       "      <th>2</th>\n",
       "      <td>1</td>\n",
       "      <td>914</td>\n",
       "      <td>3</td>\n",
       "      <td>978301968</td>\n",
       "    </tr>\n",
       "    <tr>\n",
       "      <th>3</th>\n",
       "      <td>1</td>\n",
       "      <td>3408</td>\n",
       "      <td>4</td>\n",
       "      <td>978300275</td>\n",
       "    </tr>\n",
       "    <tr>\n",
       "      <th>4</th>\n",
       "      <td>1</td>\n",
       "      <td>2355</td>\n",
       "      <td>5</td>\n",
       "      <td>978824291</td>\n",
       "    </tr>\n",
       "  </tbody>\n",
       "</table>\n",
       "</div>"
      ],
      "text/plain": [
       "   userId  movieId  rating  timestamp\n",
       "0       1     1193       5  978300760\n",
       "1       1      661       3  978302109\n",
       "2       1      914       3  978301968\n",
       "3       1     3408       4  978300275\n",
       "4       1     2355       5  978824291"
      ]
     },
     "execution_count": 54,
     "metadata": {},
     "output_type": "execute_result"
    }
   ],
   "source": [
    "ratings.head()"
   ]
  },
  {
   "cell_type": "code",
   "execution_count": 56,
   "id": "4c60e776",
   "metadata": {},
   "outputs": [
    {
     "name": "stdout",
     "output_type": "stream",
     "text": [
      "\n",
      "Ratings timestamps (converted): min, max -> 956703932 1046454590\n"
     ]
    }
   ],
   "source": [
    "# Timestamp sanity: check earliest/latest timestamps\n",
    "print(\"\\nRatings timestamps (converted): min, max ->\", ratings['timestamp'].min(), ratings['timestamp'].max())"
   ]
  },
  {
   "cell_type": "code",
   "execution_count": 57,
   "id": "149bc23c",
   "metadata": {},
   "outputs": [
    {
     "name": "stdout",
     "output_type": "stream",
     "text": [
      "\n",
      "User x Movie matrix: users=6040, movies=3706, interactions=1000209\n",
      "Sparsity: 0.955316  (i.e. 95.5316% empty)\n"
     ]
    },
    {
     "ename": "NameError",
     "evalue": "name 'SCIPY_AVAILABLE' is not defined",
     "output_type": "error",
     "traceback": [
      "\u001b[1;31m---------------------------------------------------------------------------\u001b[0m",
      "\u001b[1;31mNameError\u001b[0m                                 Traceback (most recent call last)",
      "Cell \u001b[1;32mIn[57], line 20\u001b[0m\n\u001b[0;32m     17\u001b[0m cols \u001b[38;5;241m=\u001b[39m ratings[\u001b[38;5;124m'\u001b[39m\u001b[38;5;124mmovieId\u001b[39m\u001b[38;5;124m'\u001b[39m]\u001b[38;5;241m.\u001b[39mmap(movie_index)\u001b[38;5;241m.\u001b[39mto_numpy()\n\u001b[0;32m     18\u001b[0m data \u001b[38;5;241m=\u001b[39m np\u001b[38;5;241m.\u001b[39mones_like(rows, dtype\u001b[38;5;241m=\u001b[39mnp\u001b[38;5;241m.\u001b[39mint8)   \u001b[38;5;66;03m# presence indicator\u001b[39;00m\n\u001b[1;32m---> 20\u001b[0m \u001b[38;5;28;01mif\u001b[39;00m \u001b[43mSCIPY_AVAILABLE\u001b[49m:\n\u001b[0;32m     21\u001b[0m     M \u001b[38;5;241m=\u001b[39m csr_matrix((data, (rows, cols)), shape\u001b[38;5;241m=\u001b[39m(\u001b[38;5;28mlen\u001b[39m(user_ids), \u001b[38;5;28mlen\u001b[39m(movie_ids)))\n\u001b[0;32m     22\u001b[0m     plt\u001b[38;5;241m.\u001b[39mfigure(figsize\u001b[38;5;241m=\u001b[39m(\u001b[38;5;241m8\u001b[39m,\u001b[38;5;241m6\u001b[39m))\n",
      "\u001b[1;31mNameError\u001b[0m: name 'SCIPY_AVAILABLE' is not defined"
     ]
    }
   ],
   "source": [
    "# -----------------------\n",
    "# Step 9 — sparsity of user-movie matrix\n",
    "# -----------------------\n",
    "n_users = ratings['userId'].nunique()\n",
    "n_movies = ratings['movieId'].nunique()\n",
    "n_interactions = len(ratings)\n",
    "sparsity = 1.0 - (n_interactions / (n_users * n_movies))\n",
    "print(f\"\\nUser x Movie matrix: users={n_users}, movies={n_movies}, interactions={n_interactions}\")\n",
    "print(f\"Sparsity: {sparsity:.6f}  (i.e. {sparsity*100:.4f}% empty)\")\n",
    "\n",
    "# Build sparse matrix (rows = users sorted, cols = movies sorted)\n",
    "user_ids = np.sort(ratings['userId'].unique())\n",
    "movie_ids = np.sort(ratings['movieId'].unique())\n",
    "user_index = {uid: i for i, uid in enumerate(user_ids)}\n",
    "movie_index = {mid: j for j, mid in enumerate(movie_ids)}\n",
    "rows = ratings['userId'].map(user_index).to_numpy()\n",
    "cols = ratings['movieId'].map(movie_index).to_numpy()\n",
    "data = np.ones_like(rows, dtype=np.int8)   # presence indicator\n",
    "\n",
    "if SCIPY_AVAILABLE:\n",
    "    M = csr_matrix((data, (rows, cols)), shape=(len(user_ids), len(movie_ids)))\n",
    "    plt.figure(figsize=(8,6))\n",
    "    # plt.spy shows where non-zero entries are\n",
    "    plt.spy(M, markersize=0.5)   # default color\n",
    "    plt.xlabel(\"Movie index\")\n",
    "    plt.ylabel(\"User index\")\n",
    "    plt.title(\"Sparsity pattern (non-zero = rating exists)\")\n",
    "    plt.show()\n",
    "else:\n",
    "    # Fallback: sample a subset of users & movies and plot dense matrix\n",
    "    sample_n_users = 300\n",
    "    sample_n_movies = 300\n",
    "    sampled_users = np.random.choice(user_ids, size=sample_n_users, replace=False)\n",
    "    sampled_movies = np.random.choice(movie_ids, size=sample_n_movies, replace=False)\n",
    "    sample_idx_u = [user_index[u] for u in sampled_users]\n",
    "    sample_idx_m = [movie_index[m] for m in sampled_movies]\n",
    "    # Create dense sampled matrix of 0/1 presence\n",
    "    sample_mat = np.zeros((sample_n_users, sample_n_movies), dtype=np.int8)\n",
    "    # Create a lookup set for quick membership\n",
    "    interaction_set = set(zip(rows, cols))\n",
    "    for i, ui in enumerate(sample_idx_u):\n",
    "        for j, mj in enumerate(sample_idx_m):\n",
    "            if (ui, mj) in interaction_set:\n",
    "                sample_mat[i, j] = 1\n",
    "    plt.figure(figsize=(8,6))\n",
    "    plt.imshow(sample_mat)   # default colormap\n",
    "    plt.xlabel(\"Sampled movie index\")\n",
    "    plt.ylabel(\"Sampled user index\")\n",
    "    plt.title(\"Sampled sparsity (1 = rating exists)\")\n",
    "    plt.show()"
   ]
  },
  {
   "cell_type": "code",
   "execution_count": null,
   "id": "a20c5b41",
   "metadata": {},
   "outputs": [],
   "source": [
    "# -----------------------\n",
    "# Optional: small dense heatmap of top users X top movies (for patterns)\n",
    "# -----------------------\n",
    "# Pick top 50 most active users and top 50 most-rated movies for dense visualization\n",
    "top_users = rpu.sort_values(ascending=False).head(50).index\n",
    "top_movies_50 = rpm.sort_values(ascending=False).head(50).index\n",
    "subset = ratings[ratings['userId'].isin(top_users) & ratings['movieId'].isin(top_movies_50)]\n",
    "pivot = subset.pivot_table(index='userId', columns='movieId', values='rating')\n",
    "# Fill NaN with 0 for display (0 = no rating)\n",
    "pivot_filled = pivot.fillna(0).values\n",
    "plt.figure(figsize=(8,6))\n",
    "plt.imshow(pivot_filled)   # shows ratings+0s (default colormap)\n",
    "plt.xlabel(\"Top movies\")\n",
    "plt.ylabel(\"Top users\")\n",
    "plt.title(\"Dense view: top 50 users x top 50 movies (0 = no rating)\")\n",
    "plt.show()"
   ]
  }
 ],
 "metadata": {
  "kernelspec": {
   "display_name": "Python 3",
   "language": "python",
   "name": "python3"
  },
  "language_info": {
   "codemirror_mode": {
    "name": "ipython",
    "version": 3
   },
   "file_extension": ".py",
   "mimetype": "text/x-python",
   "name": "python",
   "nbconvert_exporter": "python",
   "pygments_lexer": "ipython3",
   "version": "3.11.1"
  }
 },
 "nbformat": 4,
 "nbformat_minor": 5
}
