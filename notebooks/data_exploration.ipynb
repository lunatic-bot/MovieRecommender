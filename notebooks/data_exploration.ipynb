{
 "cells": [
  {
   "cell_type": "code",
   "execution_count": 7,
   "id": "d3db3e9e",
   "metadata": {},
   "outputs": [
    {
     "name": "stdout",
     "output_type": "stream",
     "text": [
      "   userId  movieId  rating  timestamp\n",
      "0       1     1193       5  978300760\n",
      "1       1      661       3  978302109\n",
      "2       1      914       3  978301968\n",
      "3       1     3408       4  978300275\n",
      "4       1     2355       5  978824291\n",
      "   movieId                               title                        genres\n",
      "0        1                    Toy Story (1995)   Animation|Children's|Comedy\n",
      "1        2                      Jumanji (1995)  Adventure|Children's|Fantasy\n",
      "2        3             Grumpier Old Men (1995)                Comedy|Romance\n",
      "3        4            Waiting to Exhale (1995)                  Comedy|Drama\n",
      "4        5  Father of the Bride Part II (1995)                        Comedy\n",
      "   userId gender  age  occupation    zip\n",
      "0       1      F    1          10  48067\n",
      "1       2      M   56          16  70072\n",
      "2       3      M   25          15  55117\n",
      "3       4      M   45           7  02460\n",
      "4       5      M   25          20  55455\n"
     ]
    }
   ],
   "source": [
    "import pandas as pd\n",
    "\n",
    "def load_movielens_1m(path=\"data\\ml-1m\"):\n",
    "    # Load ratings\n",
    "    ratings = pd.read_csv(\n",
    "        f\"{path}ratings.dat\",\n",
    "        sep=\"::\",\n",
    "        engine=\"python\",\n",
    "        names=[\"userId\", \"movieId\", \"rating\", \"timestamp\"]\n",
    "    )\n",
    "\n",
    "    # Load movies\n",
    "    movies = pd.read_csv(\n",
    "        f\"{path}movies.dat\",\n",
    "        sep=\"::\",\n",
    "        engine=\"python\",\n",
    "        names=[\"movieId\", \"title\", \"genres\"],\n",
    "        encoding=\"latin-1\"\n",
    "    )\n",
    "\n",
    "    # Load users\n",
    "    users = pd.read_csv(\n",
    "        f\"{path}users.dat\",\n",
    "        sep=\"::\",\n",
    "        engine=\"python\",\n",
    "        names=[\"userId\", \"gender\", \"age\", \"occupation\", \"zip\"]\n",
    "    )\n",
    "\n",
    "    return ratings, movies, users\n",
    "\n",
    "\n",
    "path = r\"C:\\Users\\atalb\\Documents\\Coding\\MLandAI\\MLProjects\\MovieRecommender\\data\\ml-1m\\\\\"\n",
    "# Example usage\n",
    "ratings, movies, users = load_movielens_1m(path=path)\n",
    "print(ratings.head())\n",
    "print(movies.head())\n",
    "print(users.head())\n"
   ]
  },
  {
   "cell_type": "code",
   "execution_count": 19,
   "id": "86cef37b",
   "metadata": {},
   "outputs": [
    {
     "name": "stdout",
     "output_type": "stream",
     "text": [
      "Shapes:\n",
      " ratings: (1000209, 4)\n",
      " movies:  (3883, 3)\n",
      " users:   (6040, 5)\n",
      "\n",
      "ratings dtypes:\n",
      " userId       int64\n",
      "movieId      int64\n",
      "rating       int64\n",
      "timestamp    int64\n",
      "dtype: object\n",
      "\n",
      "First 3 ratings rows:\n",
      "    userId  movieId  rating  timestamp\n",
      "0       1     1193       5  978300760\n",
      "1       1      661       3  978302109\n",
      "2       1      914       3  978301968\n",
      "\n",
      "First 3 movies rows:\n",
      "    movieId                    title                        genres\n",
      "0        1         Toy Story (1995)   Animation|Children's|Comedy\n",
      "1        2           Jumanji (1995)  Adventure|Children's|Fantasy\n",
      "2        3  Grumpier Old Men (1995)                Comedy|Romance\n",
      "\n",
      "First 3 users rows:\n",
      "    userId gender  age  occupation    zip\n",
      "0       1      F    1          10  48067\n",
      "1       2      M   56          16  70072\n",
      "2       3      M   25          15  55117\n"
     ]
    }
   ],
   "source": [
    "print(\"Shapes:\")\n",
    "print(\" ratings:\", ratings.shape)\n",
    "print(\" movies: \", movies.shape)\n",
    "print(\" users:  \", users.shape)\n",
    "print(\"\\nratings dtypes:\\n\", ratings.dtypes)\n",
    "print(\"\\nFirst 3 ratings rows:\\n\", ratings.head(3))\n",
    "print(\"\\nFirst 3 movies rows:\\n\", movies.head(3))\n",
    "print(\"\\nFirst 3 users rows:\\n\", users.head(3))"
   ]
  },
  {
   "cell_type": "code",
   "execution_count": 20,
   "id": "33caf3ed",
   "metadata": {},
   "outputs": [
    {
     "name": "stdout",
     "output_type": "stream",
     "text": [
      "\n",
      "Missing values (per dataframe):\n",
      "ratings:\n",
      " userId       0\n",
      "movieId      0\n",
      "rating       0\n",
      "timestamp    0\n",
      "dtype: int64\n",
      "movies:\n",
      " movieId    0\n",
      "title      0\n",
      "genres     0\n",
      "dtype: int64\n",
      "users:\n",
      " userId        0\n",
      "gender        0\n",
      "age           0\n",
      "occupation    0\n",
      "zip           0\n",
      "dtype: int64\n"
     ]
    }
   ],
   "source": [
    "print(\"\\nMissing values (per dataframe):\")\n",
    "print(\"ratings:\\n\", ratings.isnull().sum())\n",
    "print(\"movies:\\n\", movies.isnull().sum())\n",
    "print(\"users:\\n\", users.isnull().sum())"
   ]
  },
  {
   "cell_type": "code",
   "execution_count": 22,
   "metadata": {},
   "outputs": [
    {
     "name": "stdout",
     "output_type": "stream",
     "text": [
      "\n",
      "Duplicates checks:\n",
      "ratings duplicate rows: 0\n",
      "movies duplicate movieId: 0\n",
      "movies duplicate titles: 0\n",
      "users duplicate userId: 0\n"
     ]
    }
   ],
   "source": [
    "# Duplicates\n",
    "print(\"\\nDuplicates checks:\")\n",
    "print(\"ratings duplicate rows:\", ratings.duplicated().sum())\n",
    "print(\"movies duplicate movieId:\", movies['movieId'].duplicated().sum())\n",
    "print(\"movies duplicate titles:\", movies['title'].duplicated().sum())\n",
    "print(\"users duplicate userId:\", users['userId'].duplicated().sum())\n"
   ]
  },
  {
   "cell_type": "code",
   "execution_count": 23,
   "metadata": {},
   "outputs": [
    {
     "data": {
      "image/png": "[encoded data removed]",
      "text/plain": [
       "<Figure size 600x400 with 1 Axes>"
      ]
     },
     "metadata": {},
     "output_type": "display_data"
    }
   ],
   "source": [
    "import matplotlib.pyplot as plt\n",
    "import numpy as np\n",
    "\n",
    "plt.figure(figsize=(6,4))\n",
    "plt.hist(ratings['rating'], bins=np.arange(0.5, 5.5+1e-6, 1), rwidth=0.8)\n",
    "plt.xticks([1,2,3,4,5])\n",
    "plt.xlabel(\"Rating\")\n",
    "plt.ylabel(\"Count\")\n",
    "plt.title(\"Distribution of Ratings\")\n",
    "plt.show()"
   ]
  },
  {
   "cell_type": "code",
   "execution_count": 24,
   "id": "29591be3",
   "metadata": {},
   "outputs": [
    {
     "name": "stdout",
     "output_type": "stream",
     "text": [
      "\n",
      "Ratings summary:\n",
      "count    1.000209e+06\n",
      "mean     3.581564e+00\n",
      "std      1.117102e+00\n",
      "min      1.000000e+00\n",
      "25%      3.000000e+00\n",
      "50%      4.000000e+00\n",
      "75%      4.000000e+00\n",
      "max      5.000000e+00\n",
      "Name: rating, dtype: float64\n"
     ]
    }
   ],
   "source": [
    "print(\"\\nRatings summary:\")\n",
    "print(ratings['rating'].describe())"
   ]
  },
  {
   "cell_type": "code",
   "execution_count": 25,
   "id": "a00db95b",
   "metadata": {},
   "outputs": [
    {
     "name": "stdout",
     "output_type": "stream",
     "text": [
      "\n",
      "Ratings per user summary:\n",
      "count    6040.000000\n",
      "mean      165.597517\n",
      "std       192.747029\n",
      "min        20.000000\n",
      "25%        44.000000\n",
      "50%        96.000000\n",
      "75%       208.000000\n",
      "max      2314.000000\n",
      "Name: num_ratings, dtype: float64\n"
     ]
    }
   ],
   "source": [
    "rpu = ratings.groupby('userId').size().rename(\"num_ratings\")\n",
    "print(\"\\nRatings per user summary:\")\n",
    "print(rpu.describe())"
   ]
  },
  {
   "cell_type": "code",
   "execution_count": null,
   "id": "6be5c584",
   "metadata": {},
   "outputs": [],
   "source": []
  }
 ],
 "metadata": {
  "kernelspec": {
   "display_name": "Python 3",
   "language": "python",
   "name": "python3"
  },
  "language_info": {
   "codemirror_mode": {
    "name": "ipython",
    "version": 3
   },
   "file_extension": ".py",
   "mimetype": "text/x-python",
   "name": "python",
   "nbconvert_exporter": "python",
   "pygments_lexer": "ipython3",
   "version": "3.11.1"
  }
 },
 "nbformat": 4,
 "nbformat_minor": 5
}
